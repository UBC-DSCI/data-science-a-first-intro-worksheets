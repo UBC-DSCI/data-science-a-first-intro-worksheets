{
 "cells": [
  {
   "cell_type": "markdown",
   "metadata": {
    "deletable": false,
    "editable": false,
    "nbgrader": {
     "cell_type": "markdown",
     "checksum": "9134143b8d4908ad38cba3afc3516807",
     "grade": false,
     "grade_id": "cell-4e13769a31cd3f6c",
     "locked": true,
     "schema_version": 3,
     "solution": false,
     "task": false
    }
   },
   "source": [
    "# Worksheet 10 - Clustering\n",
    "\n",
    "### Lecture and Tutorial Learning Goals:\n",
    "\n",
    "After completing this week's lecture and tutorial work, you will be able to:\n",
    "\n",
    "* Describe a case where clustering would be an appropriate tool, and what insight it would bring from the data.\n",
    "* Explain the K-means clustering algorithm.\n",
    "* Interpret the output of a k-means cluster analysis.\n",
    "* Perform K-means clustering in R\n",
    "* Visualize the output of K-means clustering in R using a coloured scatter plot\n",
    "* Identify when it is necessary to scale variables before clustering and do this using R\n",
    "* Use the elbow method to choose the number of clusters for k-means\n",
    "* Describe advantages, limitations and assumptions of the k-means clustering algorithm.\n",
    "\n",
    "This worksheet covers parts of [the Clustering chapter](https://datasciencebook.ca/clustering.html) of the online textbook. You should read this chapter before attempting the worksheet."
   ]
  },
  {
   "cell_type": "code",
   "execution_count": null,
   "metadata": {
    "deletable": false,
    "editable": false,
    "nbgrader": {
     "cell_type": "code",
     "checksum": "aa24f01e9dcc0743fb21ddc8d7737718",
     "grade": false,
     "grade_id": "cell-692894fcc96c281b",
     "locked": true,
     "schema_version": 3,
     "solution": false,
     "task": false
    }
   },
   "outputs": [],
   "source": [
    "### Run this cell before continuing.\n",
    "library(tidyverse)\n",
    "library(tidymodels)\n",
    "library(tidyclust)\n",
    "library(forcats)\n",
    "library(repr)\n",
    "options(repr.matrix.max.rows = 6)\n",
    "source('tests.R')\n",
    "source(\"cleanup.R\")"
   ]
  },
  {
   "cell_type": "markdown",
   "metadata": {
    "deletable": false,
    "editable": false,
    "nbgrader": {
     "cell_type": "markdown",
     "checksum": "b1576a6390cee09caa44348f6111f0d6",
     "grade": false,
     "grade_id": "cell-353d89a0c34b681a",
     "locked": true,
     "schema_version": 3,
     "solution": false,
     "task": false
    }
   },
   "source": [
    "**Question 0.0** Multiple Choice:\n",
    "<br> {points: 1}\n",
    "\n",
    "In which of the following scenarios would clustering methods likely be appropriate?\n",
    "\n",
    "A. Identifying sub-groups of houses according to their house type, value, and geographical location\n",
    "\n",
    "B. Predicting whether a given user will click on an ad on a website\n",
    "\n",
    "C. Segmenting customers based on their preferences to target advertising\n",
    "\n",
    "D. Both A. and B.\n",
    "\n",
    "E. Both A. and C. \n",
    "\n",
    "*Assign your answer to an object called `answer0.0`. Make sure your answer is an uppercase letter and is surrounded by quotation marks (e.g. `\"F\"`).*"
   ]
  },
  {
   "cell_type": "code",
   "execution_count": null,
   "metadata": {
    "deletable": false,
    "nbgrader": {
     "cell_type": "code",
     "checksum": "98f8e9fd12bc6e4c429aeab4f287df0a",
     "grade": false,
     "grade_id": "cell-5dbd8978b6a0a44c",
     "locked": false,
     "schema_version": 3,
     "solution": true
    }
   },
   "outputs": [],
   "source": [
    "# your code here\n",
    "fail() # No Answer - remove if you provide an answer"
   ]
  },
  {
   "cell_type": "code",
   "execution_count": null,
   "metadata": {
    "deletable": false,
    "editable": false,
    "nbgrader": {
     "cell_type": "code",
     "checksum": "502b48b038fc06bf052b3b8cbcc6b861",
     "grade": true,
     "grade_id": "cell-13f71e2d909892e4",
     "locked": true,
     "points": 1,
     "schema_version": 3,
     "solution": false
    }
   },
   "outputs": [],
   "source": [
    "test_0.0()"
   ]
  },
  {
   "cell_type": "markdown",
   "metadata": {
    "deletable": false,
    "editable": false,
    "nbgrader": {
     "cell_type": "markdown",
     "checksum": "81011b8056d0fa6b024d5f7ef30d4a17",
     "grade": false,
     "grade_id": "cell-ba0b77eef45527d2",
     "locked": true,
     "schema_version": 3,
     "solution": false,
     "task": false
    }
   },
   "source": [
    "**Question 0.1** Multiple Choice:\n",
    "<br> {points: 1}\n",
    "\n",
    "Which step in the description of the K-means algorithm below is *incorrect*?\n",
    "\n",
    "0. Choose the number of clusters\n",
    "\n",
    "1. Randomly assign each of the points to one of the clusters\n",
    "\n",
    "2. Calculate the position for the cluster centre (centroid) for each of the clusters (this is the middle of the points in the cluster, as measured by straight-line distance)\n",
    "\n",
    "3. Re-assign each of the points to the cluster whose centroid is furthest from that point\n",
    "\n",
    "4. Repeat steps 2 - 3 until the cluster centroids don't change at all\n",
    "\n",
    "*Assign your answer to an object called `answer0.1`. Your answer should be a single numerical character surrounded by quotes.*"
   ]
  },
  {
   "cell_type": "code",
   "execution_count": null,
   "metadata": {
    "deletable": false,
    "nbgrader": {
     "cell_type": "code",
     "checksum": "14c3d242ec6e4c50a48381fb4cfccae7",
     "grade": false,
     "grade_id": "cell-4c524a7e35eb23bb",
     "locked": false,
     "schema_version": 3,
     "solution": true
    }
   },
   "outputs": [],
   "source": [
    "# your code here\n",
    "fail() # No Answer - remove if you provide an answer"
   ]
  },
  {
   "cell_type": "code",
   "execution_count": null,
   "metadata": {
    "deletable": false,
    "editable": false,
    "nbgrader": {
     "cell_type": "code",
     "checksum": "6f5dfb2e8bf6bf040b42ab6c5165768b",
     "grade": true,
     "grade_id": "cell-4ac8aab3f8626a82",
     "locked": true,
     "points": 1,
     "schema_version": 3,
     "solution": false
    }
   },
   "outputs": [],
   "source": [
    "test_0.1()"
   ]
  },
  {
   "cell_type": "markdown",
   "metadata": {
    "deletable": false,
    "editable": false,
    "nbgrader": {
     "cell_type": "markdown",
     "checksum": "76c1cb83bb87ea8626ed64408c3a2e5c",
     "grade": false,
     "grade_id": "cell-3b5cd50b0518b4d1",
     "locked": true,
     "schema_version": 3,
     "solution": false,
     "task": false
    }
   },
   "source": [
    "## Hoppy Craft Beer\n",
    "\n",
    "Craft beer is a strong market in Canada and the US, and is expanding to other countries as well. If you wanted to get into the craft beer brewing market, you might want to better understand the product landscape. One popular craft beer product is hopped craft beer. Breweries create/label many different kinds of hopped craft beer, but how many different kinds of hopped craft beer are there really when you look at the chemical properties instead of the human labels? \n",
    "\n",
    "We will start to look at the question by looking at a [craft beer data set from Kaggle](https://www.kaggle.com/nickhould/craft-cans#beers.csv). In this data set, we will use the alcoholic content by volume  (`abv` column) and the International bittering units (`ibu` column) as variables to try to cluster the beers. The `abv` variable has values 0 (indicating no alcohol) up to 1 (pure alcohol) and the `ibu` variable quantifies the bitterness of the beer (higher values indicate higher bitterness)."
   ]
  },
  {
   "cell_type": "markdown",
   "metadata": {
    "deletable": false,
    "editable": false,
    "nbgrader": {
     "cell_type": "markdown",
     "checksum": "d3f9b9af91421126213ec2b9d42e8c5f",
     "grade": false,
     "grade_id": "cell-97bd85f0599a8d9d",
     "locked": true,
     "schema_version": 3,
     "solution": false,
     "task": false
    }
   },
   "source": [
    "**Question 1.0** \n",
    "<br> {points: 1}\n",
    "\n",
    "Read in the `beers.csv` data using `read_csv()` and assign it to an object called `beer`. The data is located within the `worksheet_10/data/` folder. \n",
    "\n",
    "*Assign your dataframe answer to an object called `beer`.*"
   ]
  },
  {
   "cell_type": "code",
   "execution_count": null,
   "metadata": {
    "deletable": false,
    "nbgrader": {
     "cell_type": "code",
     "checksum": "43ef95bdfb2c2991205b3e47a956f545",
     "grade": false,
     "grade_id": "cell-b15ec51dce472f41",
     "locked": false,
     "schema_version": 3,
     "solution": true
    }
   },
   "outputs": [],
   "source": [
    "# your code here\n",
    "fail() # No Answer - remove if you provide an answer\n",
    "beer"
   ]
  },
  {
   "cell_type": "code",
   "execution_count": null,
   "metadata": {
    "deletable": false,
    "editable": false,
    "nbgrader": {
     "cell_type": "code",
     "checksum": "c2dace932ecbdb26d70dc250bd747375",
     "grade": true,
     "grade_id": "cell-7afc19b7bc727fc8",
     "locked": true,
     "points": 1,
     "schema_version": 3,
     "solution": false
    }
   },
   "outputs": [],
   "source": [
    "test_1.0()"
   ]
  },
  {
   "cell_type": "markdown",
   "metadata": {
    "deletable": false,
    "editable": false,
    "nbgrader": {
     "cell_type": "markdown",
     "checksum": "9261c2830df0bf8953a2db46c0a2d150",
     "grade": false,
     "grade_id": "cell-eaefcd87f19fdf96",
     "locked": true,
     "schema_version": 3,
     "solution": false,
     "task": false
    }
   },
   "source": [
    "**Question 1.1**\n",
    "<br> {points: 1}\n",
    "\n",
    "Let's start by visualizing the variables we are going to use in our cluster analysis as a scatter plot. Put `ibu` on the horizontal axis, and `abv` on the vertical axis. Name the plot object `beer_plot`. \n",
    "\n",
    "*Assign your plot to an object named `beer_plot`, and remember to follow the best visualization practices, including adding human-readable labels to your plot.*"
   ]
  },
  {
   "cell_type": "code",
   "execution_count": null,
   "metadata": {
    "deletable": false,
    "nbgrader": {
     "cell_type": "code",
     "checksum": "7244e6a7da6a10c5adf43c1ce79ee42d",
     "grade": false,
     "grade_id": "cell-685ad4bcdc753cbf",
     "locked": false,
     "schema_version": 3,
     "solution": true
    }
   },
   "outputs": [],
   "source": [
    "# your code here\n",
    "fail() # No Answer - remove if you provide an answer\n",
    "beer_plot"
   ]
  },
  {
   "cell_type": "code",
   "execution_count": null,
   "metadata": {
    "deletable": false,
    "editable": false,
    "nbgrader": {
     "cell_type": "code",
     "checksum": "0ed664ed84f5cabfa93b155c1ef6f08a",
     "grade": true,
     "grade_id": "cell-a38c885f90300a1b",
     "locked": true,
     "points": 1,
     "schema_version": 3,
     "solution": false
    }
   },
   "outputs": [],
   "source": [
    "test_1.1()"
   ]
  },
  {
   "cell_type": "markdown",
   "metadata": {
    "deletable": false,
    "editable": false,
    "nbgrader": {
     "cell_type": "markdown",
     "checksum": "3e0b3201007f9b4b0b84c5bc5829e931",
     "grade": false,
     "grade_id": "cell-4826275eec3db51a",
     "locked": true,
     "schema_version": 3,
     "solution": false,
     "task": false
    }
   },
   "source": [
    "**Question 1.2**\n",
    "<br> {points: 1}\n",
    "\n",
    "We need to clean this data a bit. Specifically, we need to remove the rows where `ibu` is `NA`, and select only the columns we are interested in clustering, which are `ibu` and `abv`. \n",
    "\n",
    "*Assign your answer to an object named `clean_beer`.*"
   ]
  },
  {
   "cell_type": "code",
   "execution_count": null,
   "metadata": {
    "deletable": false,
    "nbgrader": {
     "cell_type": "code",
     "checksum": "e817afc76a12c292d424621e4e4dd597",
     "grade": false,
     "grade_id": "cell-77a1b2827a0e31a3",
     "locked": false,
     "schema_version": 3,
     "solution": true
    }
   },
   "outputs": [],
   "source": [
    "# your code here\n",
    "fail() # No Answer - remove if you provide an answer\n",
    "clean_beer"
   ]
  },
  {
   "cell_type": "code",
   "execution_count": null,
   "metadata": {
    "deletable": false,
    "editable": false,
    "nbgrader": {
     "cell_type": "code",
     "checksum": "de78d2939a1d0c13089fb8e0d8ea29f2",
     "grade": true,
     "grade_id": "cell-1ed1c760a10e3e9d",
     "locked": true,
     "points": 1,
     "schema_version": 3,
     "solution": false
    }
   },
   "outputs": [],
   "source": [
    "test_1.2()"
   ]
  },
  {
   "cell_type": "markdown",
   "metadata": {
    "deletable": false,
    "editable": false,
    "nbgrader": {
     "cell_type": "markdown",
     "checksum": "c5d06b9fc3f0ff98ca484a83671d0baf",
     "grade": false,
     "grade_id": "cell-98c23f6aa556be8b",
     "locked": true,
     "schema_version": 3,
     "solution": false,
     "task": false
    }
   },
   "source": [
    "**Question 1.3** Multiple Choice:\n",
    "<br>{points: 1}\n",
    "\n",
    "Why do we need to scale the variables when using K-means clustering?\n",
    "\n",
    "A. K-means uses the Euclidean distance to compute how similar data points are to each cluster center\n",
    "\n",
    "B. K-means is an iterative algorithm\n",
    "\n",
    "C. Some variables might be more important for prediction than others\n",
    "\n",
    "D. To make sure their mean is 0\n",
    "\n",
    "*Assign your answer to an object named `answer1.3`. Make sure your answer is an uppercase letter and is surrounded by quotation marks (e.g. `\"F\"`).*"
   ]
  },
  {
   "cell_type": "code",
   "execution_count": null,
   "metadata": {
    "deletable": false,
    "nbgrader": {
     "cell_type": "code",
     "checksum": "523a381b6fa147dcca8608049d1b49c9",
     "grade": false,
     "grade_id": "cell-dabeb5fe0dacbc55",
     "locked": false,
     "schema_version": 3,
     "solution": true,
     "task": false
    }
   },
   "outputs": [],
   "source": [
    "# your code here\n",
    "fail() # No Answer - remove if you provide an answer"
   ]
  },
  {
   "cell_type": "code",
   "execution_count": null,
   "metadata": {
    "deletable": false,
    "editable": false,
    "nbgrader": {
     "cell_type": "code",
     "checksum": "0644c6d2b072684cb70c1ca343d1f30a",
     "grade": true,
     "grade_id": "cell-cee046b5d47ebb72",
     "locked": true,
     "points": 1,
     "schema_version": 3,
     "solution": false,
     "task": false
    }
   },
   "outputs": [],
   "source": [
    "test_1.3()"
   ]
  },
  {
   "cell_type": "markdown",
   "metadata": {
    "deletable": false,
    "editable": false,
    "nbgrader": {
     "cell_type": "markdown",
     "checksum": "4feaa1cddcfdd8b366573b94e13a5106",
     "grade": false,
     "grade_id": "cell-b44ed52f8fdc5336",
     "locked": true,
     "schema_version": 3,
     "solution": false,
     "task": false
    }
   },
   "source": [
    "**Question 1.4**\n",
    "<br> {points: 1}\n",
    "\n",
    "We will now build a `tidymodels` workflow to cluster the data. The first step is to create a `recipe` that specifies that we want to center and scale all of the variables in the `clean_beer` data frame. \n",
    "\n",
    "*Recall that we used a `recipe` for scaling when doing classification and regression. Even though `recipe`s were originally designed for predictive modeling tasks (like classification and regression), the `tidyclust` library lets us use our familiar `tidymodels` functions for clustering too!*\n",
    "\n",
    "*Assign your answer to an object named `kmeans_recipe`. Use the scaffolding provided.*"
   ]
  },
  {
   "cell_type": "code",
   "execution_count": null,
   "metadata": {
    "deletable": false,
    "nbgrader": {
     "cell_type": "code",
     "checksum": "c46d011c644e7507492126c3aeadfec8",
     "grade": false,
     "grade_id": "cell-db7d5a769e2ede77",
     "locked": false,
     "schema_version": 3,
     "solution": true
    }
   },
   "outputs": [],
   "source": [
    "# ... <- ...( ~ . , ...) |> \n",
    "#        ...(...) |>\n",
    "#        ...(...)\n",
    "\n",
    "# your code here\n",
    "fail() # No Answer - remove if you provide an answer\n",
    "kmeans_recipe"
   ]
  },
  {
   "cell_type": "code",
   "execution_count": null,
   "metadata": {
    "deletable": false,
    "editable": false,
    "nbgrader": {
     "cell_type": "code",
     "checksum": "96ba53e16907f3c071acae5e0ace4f51",
     "grade": true,
     "grade_id": "cell-f4fa609002e00099",
     "locked": true,
     "points": 1,
     "schema_version": 3,
     "solution": false
    }
   },
   "outputs": [],
   "source": [
    "test_1.4()"
   ]
  },
  {
   "cell_type": "markdown",
   "metadata": {
    "deletable": false,
    "editable": false,
    "nbgrader": {
     "cell_type": "markdown",
     "checksum": "a8bec9b6b150f714340e3c397a3104a5",
     "grade": false,
     "grade_id": "cell-da03db927b591cb2",
     "locked": true,
     "schema_version": 3,
     "solution": false,
     "task": false
    }
   },
   "source": [
    "**Question 1.5**\n",
    "<br>{points: 1}\n",
    "\n",
    "The next step in our `tidymodels` workflow is a model specification that specifies that we want to cluster the data. From our exploratory data visualization, 2 seems like a reasonable number of clusters. Use the `k_means` function with `num_clusters = 2` to perform clustering with this choice of $k$. Make sure to use the \"stats\" engine.\n",
    "\n",
    "*Assign your answer to an object named `kmeans_spec`. Use the scaffolding provided.*"
   ]
  },
  {
   "cell_type": "code",
   "execution_count": null,
   "metadata": {
    "deletable": false,
    "nbgrader": {
     "cell_type": "code",
     "checksum": "664aa1bebf9294a569b534f6a6d58433",
     "grade": false,
     "grade_id": "cell-db31a7fb58549443",
     "locked": false,
     "schema_version": 3,
     "solution": true,
     "task": false
    }
   },
   "outputs": [],
   "source": [
    "# ... <- ...(... = ...) |>\n",
    "#        ...(...)\n",
    "\n",
    "# your code here\n",
    "fail() # No Answer - remove if you provide an answer\n",
    "kmeans_spec"
   ]
  },
  {
   "cell_type": "code",
   "execution_count": null,
   "metadata": {
    "deletable": false,
    "editable": false,
    "nbgrader": {
     "cell_type": "code",
     "checksum": "429f5fcbee73c56490371a99aa32e074",
     "grade": true,
     "grade_id": "cell-e99989b723a64ed7",
     "locked": true,
     "points": 1,
     "schema_version": 3,
     "solution": false,
     "task": false
    }
   },
   "outputs": [],
   "source": [
    "test_1.5()"
   ]
  },
  {
   "cell_type": "markdown",
   "metadata": {
    "deletable": false,
    "editable": false,
    "nbgrader": {
     "cell_type": "markdown",
     "checksum": "719ae4729999aaadeb22d027e2e89fcf",
     "grade": false,
     "grade_id": "cell-8c5a413f54e55216",
     "locked": true,
     "schema_version": 3,
     "solution": false,
     "task": false
    }
   },
   "source": [
    "**Question 1.6**\n",
    "<br> {points: 1}\n",
    "\n",
    "Combine the recipe and model specification into a `workflow`, and fit the `workflow` on the `clean_beer` data.\n",
    "\n",
    "*Assign your model to an object named `kmeans_fit`. Note that since k-means uses a random initialization, we need to set the seed; don't change the value!*"
   ]
  },
  {
   "cell_type": "code",
   "execution_count": null,
   "metadata": {
    "deletable": false,
    "nbgrader": {
     "cell_type": "code",
     "checksum": "3ddf24e11e982feefffd811195191d7c",
     "grade": false,
     "grade_id": "cell-59fd6cac5b722485",
     "locked": false,
     "schema_version": 3,
     "solution": true
    }
   },
   "outputs": [],
   "source": [
    "# DON'T CHANGE THE SEED VALUE!\n",
    "set.seed(1234)\n",
    "\n",
    "# ... <- kmeans(..., centers = 2)\n",
    "# your code here\n",
    "fail() # No Answer - remove if you provide an answer\n",
    "kmeans_fit"
   ]
  },
  {
   "cell_type": "code",
   "execution_count": null,
   "metadata": {
    "deletable": false,
    "editable": false,
    "nbgrader": {
     "cell_type": "code",
     "checksum": "9a7e6d0dcfc80f7447c3f31c67490d5a",
     "grade": true,
     "grade_id": "cell-b9995d961e6abdd4",
     "locked": true,
     "points": 1,
     "schema_version": 3,
     "solution": false
    }
   },
   "outputs": [],
   "source": [
    "test_1.6()"
   ]
  },
  {
   "cell_type": "markdown",
   "metadata": {
    "deletable": false,
    "editable": false,
    "nbgrader": {
     "cell_type": "markdown",
     "checksum": "9c9edc80285796a634b177ad2f77558f",
     "grade": false,
     "grade_id": "cell-b40335391796b8bc",
     "locked": true,
     "schema_version": 3,
     "solution": false,
     "task": false
    }
   },
   "source": [
    "**Question 1.7**\n",
    "<br> {points: 1}\n",
    "\n",
    "Use the `augment` function to add the cluster assignment for each point to the `clean_beer` data frame. \n",
    "\n",
    "*Assign your answer to an object named `labelled_beer`.* "
   ]
  },
  {
   "cell_type": "code",
   "execution_count": null,
   "metadata": {
    "deletable": false,
    "nbgrader": {
     "cell_type": "code",
     "checksum": "c71dc9afcf973c19bf1b99aeb0f32b14",
     "grade": false,
     "grade_id": "cell-09a5a07201a2f1e3",
     "locked": false,
     "schema_version": 3,
     "solution": true
    }
   },
   "outputs": [],
   "source": [
    "# ... <- augment(..., ...)\n",
    "# your code here\n",
    "fail() # No Answer - remove if you provide an answer\n",
    "labelled_beer"
   ]
  },
  {
   "cell_type": "code",
   "execution_count": null,
   "metadata": {
    "deletable": false,
    "editable": false,
    "nbgrader": {
     "cell_type": "code",
     "checksum": "6383fcd0d1327463383cd08d43f4b889",
     "grade": true,
     "grade_id": "cell-46d87f5ee36a932c",
     "locked": true,
     "points": 1,
     "schema_version": 3,
     "solution": false
    }
   },
   "outputs": [],
   "source": [
    "test_1.7()"
   ]
  },
  {
   "cell_type": "markdown",
   "metadata": {
    "deletable": false,
    "editable": false,
    "nbgrader": {
     "cell_type": "markdown",
     "checksum": "86ea52df93a45e224db2855bbd4516cb",
     "grade": false,
     "grade_id": "cell-6adf5ec5d9d2f3ef",
     "locked": true,
     "schema_version": 3,
     "solution": false,
     "task": false
    }
   },
   "source": [
    "**Question 1.8**\n",
    "<br> {points: 1}\n",
    "\n",
    "Create a scatter plot of `abv` on the y-axis versus `ibu` on the x-axis (using the data in `labelled_beer`) where the points are labelled by their cluster assignment. Name the plot object `cluster_plot`."
   ]
  },
  {
   "cell_type": "code",
   "execution_count": null,
   "metadata": {
    "deletable": false,
    "nbgrader": {
     "cell_type": "code",
     "checksum": "59cbcd017638e71edd476dade7ce4d2d",
     "grade": false,
     "grade_id": "cell-70d2a62ba35172b0",
     "locked": false,
     "schema_version": 3,
     "solution": true
    }
   },
   "outputs": [],
   "source": [
    "# your code here\n",
    "fail() # No Answer - remove if you provide an answer\n",
    "cluster_plot"
   ]
  },
  {
   "cell_type": "code",
   "execution_count": null,
   "metadata": {
    "deletable": false,
    "editable": false,
    "nbgrader": {
     "cell_type": "code",
     "checksum": "63f891922ae72b65f75476874371b039",
     "grade": true,
     "grade_id": "cell-f8a27de5ec7f09e6",
     "locked": true,
     "points": 1,
     "schema_version": 3,
     "solution": false
    }
   },
   "outputs": [],
   "source": [
    "test_1.8()"
   ]
  },
  {
   "cell_type": "markdown",
   "metadata": {
    "deletable": false,
    "editable": false,
    "nbgrader": {
     "cell_type": "markdown",
     "checksum": "2509ce6743e12ed06044efeb4f3f2741",
     "grade": false,
     "grade_id": "cell-97f33922ed0d39e8",
     "locked": true,
     "schema_version": 3,
     "solution": false,
     "task": false
    }
   },
   "source": [
    "**Question 1.9.1** Multiple Choice:\n",
    "<br> {points: 1}\n",
    "\n",
    "We do not know, however, that two clusters ($K$ = 2) is the best choice for this data set. What can we do to choose the best $K$?\n",
    "\n",
    "A. Perform *cross-validation* for a variety of possible $K$s. Choose the one where within-cluster sum of squares distance starts to *decrease less*.\n",
    "\n",
    "B. Perform *cross-validation* for a variety of possible $K$s. Choose the one where the within-cluster sum of squares distance starts to *decrease more*. \n",
    "\n",
    "C. Perform *clustering* for a variety of possible $K$s. Choose the one where within-cluster sum of squares distance starts to *decrease less*.\n",
    "\n",
    "D. Perform *clustering* for a variety of possible $K$s. Choose the one where the within-cluster sum of squares distance starts to *decrease more*. \n",
    "\n",
    "*Assign your answer to an object called `answer1.9.1`. Make sure your answer is an uppercase letter and is surrounded by quotation marks (e.g. `\"F\"`).*"
   ]
  },
  {
   "cell_type": "code",
   "execution_count": null,
   "metadata": {
    "deletable": false,
    "nbgrader": {
     "cell_type": "code",
     "checksum": "bcb77ef6634005033f2705240c94fc5a",
     "grade": false,
     "grade_id": "cell-61e001fe5e991523",
     "locked": false,
     "schema_version": 3,
     "solution": true
    }
   },
   "outputs": [],
   "source": [
    "# your code here\n",
    "fail() # No Answer - remove if you provide an answer"
   ]
  },
  {
   "cell_type": "code",
   "execution_count": null,
   "metadata": {
    "deletable": false,
    "editable": false,
    "nbgrader": {
     "cell_type": "code",
     "checksum": "6c244fc8e2d3f39508c3c2972c814ab6",
     "grade": true,
     "grade_id": "cell-693552f36c9a4230",
     "locked": true,
     "points": 1,
     "schema_version": 3,
     "solution": false
    }
   },
   "outputs": [],
   "source": [
    "test_1.9.1()"
   ]
  },
  {
   "cell_type": "markdown",
   "metadata": {
    "deletable": false,
    "editable": false,
    "nbgrader": {
     "cell_type": "markdown",
     "checksum": "c51a393e5f3263d66671a0dc315ba672",
     "grade": false,
     "grade_id": "cell-d884f2f1c5ea8b43",
     "locked": true,
     "schema_version": 3,
     "solution": false,
     "task": false
    }
   },
   "source": [
    "**Question 1.9.2**\n",
    "<br> {points: 1}\n",
    "\n",
    "Use the `glance` function to get the model-level statistics for the clustering we just performed, including total within-cluster sum of squares. \n",
    "\n",
    "*Assign your answer to an object named `clustering_stats`.*"
   ]
  },
  {
   "cell_type": "code",
   "execution_count": null,
   "metadata": {
    "deletable": false,
    "nbgrader": {
     "cell_type": "code",
     "checksum": "90ba201aaadf781df4c5e4b5ed182641",
     "grade": false,
     "grade_id": "cell-868cebb3f86944d1",
     "locked": false,
     "schema_version": 3,
     "solution": true
    }
   },
   "outputs": [],
   "source": [
    "# your code here\n",
    "fail() # No Answer - remove if you provide an answer\n",
    "clustering_stats"
   ]
  },
  {
   "cell_type": "code",
   "execution_count": null,
   "metadata": {
    "deletable": false,
    "editable": false,
    "nbgrader": {
     "cell_type": "code",
     "checksum": "e09f25481cdbced7b7a1cbba9b07499f",
     "grade": true,
     "grade_id": "cell-31427d5e0afe53be",
     "locked": true,
     "points": 1,
     "schema_version": 3,
     "solution": false
    }
   },
   "outputs": [],
   "source": [
    "test_1.9.2()"
   ]
  },
  {
   "cell_type": "markdown",
   "metadata": {
    "deletable": false,
    "editable": false,
    "nbgrader": {
     "cell_type": "markdown",
     "checksum": "46f93e6c154a3a4c682cdbeeb4786a41",
     "grade": false,
     "grade_id": "cell-1bbceb7c5a13d60a",
     "locked": true,
     "schema_version": 3,
     "solution": false,
     "task": false
    }
   },
   "source": [
    "**Question 1.9.3**\n",
    "<br>{points: 1}\n",
    "\n",
    "What is the total within cluster sum-of-squares distance for this clustering (rounded to 2 decimals)?\n",
    "\n",
    "*Assign your answer to an object named `totalWSSD`. Round your answer to 2 decimal points.*"
   ]
  },
  {
   "cell_type": "code",
   "execution_count": null,
   "metadata": {
    "deletable": false,
    "nbgrader": {
     "cell_type": "code",
     "checksum": "d73bf8597b332246e3eec0aa3b9e69c6",
     "grade": false,
     "grade_id": "cell-5aadc019357ce356",
     "locked": false,
     "schema_version": 3,
     "solution": true,
     "task": false
    }
   },
   "outputs": [],
   "source": [
    "# your code here\n",
    "fail() # No Answer - remove if you provide an answer"
   ]
  },
  {
   "cell_type": "code",
   "execution_count": null,
   "metadata": {
    "deletable": false,
    "editable": false,
    "nbgrader": {
     "cell_type": "code",
     "checksum": "e7329cca0fd1f4f4bebbd641f06053be",
     "grade": true,
     "grade_id": "cell-5e98e4b9cb303cc3",
     "locked": true,
     "points": 0,
     "schema_version": 3,
     "solution": false,
     "task": false
    }
   },
   "outputs": [],
   "source": [
    "test_1.9.3()"
   ]
  },
  {
   "cell_type": "markdown",
   "metadata": {
    "deletable": false,
    "editable": false,
    "nbgrader": {
     "cell_type": "markdown",
     "checksum": "fccc04f36fd007aee79d55ac1c4967fb",
     "grade": false,
     "grade_id": "cell-42cd7e853af98bb1",
     "locked": true,
     "schema_version": 3,
     "solution": false,
     "task": false
    }
   },
   "source": [
    "**Question 2.0**\n",
    "<br> {points: 1}\n",
    "\n",
    "Let's now choose the best $K$ for this clustering problem. To do this we need to create a tibble with a column having the same name as the parameter we want to tune (`num_clusters`), taking values 1 to 10. \n",
    "\n",
    "*Assign your answer to an object named `beer_ks`.*"
   ]
  },
  {
   "cell_type": "code",
   "execution_count": null,
   "metadata": {
    "deletable": false,
    "nbgrader": {
     "cell_type": "code",
     "checksum": "70aeede42d313c34dde1c92131e18a4c",
     "grade": false,
     "grade_id": "cell-2291e50c08f701d2",
     "locked": false,
     "schema_version": 3,
     "solution": true
    }
   },
   "outputs": [],
   "source": [
    "# your code here\n",
    "fail() # No Answer - remove if you provide an answer\n",
    "beer_ks"
   ]
  },
  {
   "cell_type": "code",
   "execution_count": null,
   "metadata": {
    "deletable": false,
    "editable": false,
    "nbgrader": {
     "cell_type": "code",
     "checksum": "d6197b58c507d80fec61c4fe09ee9fd0",
     "grade": true,
     "grade_id": "cell-58c958b24994d60d",
     "locked": true,
     "points": 1,
     "schema_version": 3,
     "solution": false
    }
   },
   "outputs": [],
   "source": [
    "test_2.0()"
   ]
  },
  {
   "cell_type": "markdown",
   "metadata": {
    "deletable": false,
    "editable": false,
    "nbgrader": {
     "cell_type": "markdown",
     "checksum": "9588f5ece0135369951f9688042bbaa8",
     "grade": false,
     "grade_id": "cell-39c29b9969ea902b",
     "locked": true,
     "schema_version": 3,
     "solution": false,
     "task": false
    }
   },
   "source": [
    "**Question 2.1**\n",
    "<br> {points: 1}\n",
    "\n",
    "We also need to create a new model specification that lets `tidymodels` tune the number of clusters. Rather than setting `num_clusters` to a particular value in the model specification, set it to `tune()`. Use `nstart = 10` restarts.\n",
    "\n",
    "*Assign your answer to an object named `kmeans_spec_tune`.*"
   ]
  },
  {
   "cell_type": "code",
   "execution_count": null,
   "metadata": {
    "deletable": false,
    "nbgrader": {
     "cell_type": "code",
     "checksum": "ebd01bd0e4e5fbb940f2be91007b81e6",
     "grade": false,
     "grade_id": "cell-ad2989c2822a50e3",
     "locked": false,
     "schema_version": 3,
     "solution": true
    }
   },
   "outputs": [],
   "source": [
    "# ... <- ...(... = ...) |>\n",
    "#        ...(...)\n",
    "\n",
    "# your code here\n",
    "fail() # No Answer - remove if you provide an answer\n",
    "kmeans_spec_tune"
   ]
  },
  {
   "cell_type": "code",
   "execution_count": null,
   "metadata": {
    "deletable": false,
    "editable": false,
    "nbgrader": {
     "cell_type": "code",
     "checksum": "f4028a78da3dab27fb9dd19f1c2af8a1",
     "grade": true,
     "grade_id": "cell-ed0f2e1a31372296",
     "locked": true,
     "points": 1,
     "schema_version": 3,
     "solution": false
    }
   },
   "outputs": [],
   "source": [
    "test_2.1()"
   ]
  },
  {
   "cell_type": "markdown",
   "metadata": {},
   "source": [
    "**Question 2.2**\n",
    "<br>{points: 1}\n",
    "\n",
    "Now combine the new model specification and our original recipe into a new `workflow`. Include the `tune_clusters` function in the workflow to run the tuning procedure. In the `tune_clusters` function, specify the `resamples` argument to be `apparent(clean_beer)` so that we use the same full data for each tuning trial. Also specify the `grid` argument to be the data frame of values of $K$ we just created. Finally, include the `collect_metrics` step to gather the results of the tuning procedure.\n",
    "\n",
    "*Assign your answer to an object named `kmeans_tuning_stats`*."
   ]
  },
  {
   "cell_type": "code",
   "execution_count": null,
   "metadata": {
    "deletable": false,
    "nbgrader": {
     "cell_type": "code",
     "checksum": "70089b607bf829f1dddd5649c7523683",
     "grade": false,
     "grade_id": "cell-fa7729a55ebc535f",
     "locked": false,
     "schema_version": 3,
     "solution": true,
     "task": false
    }
   },
   "outputs": [],
   "source": [
    "# DON'T CHANGE THE SEED VALUE!\n",
    "set.seed(9999)\n",
    "# \n",
    "# ... <- ... |>\n",
    "#        ...(...) |>\n",
    "#        ...(...) |>\n",
    "#        tune_cluster(resamples = ..., grid = ...) |>\n",
    "#        ...()\n",
    "\n",
    "# your code here\n",
    "fail() # No Answer - remove if you provide an answer\n",
    "kmeans_tuning_stats"
   ]
  },
  {
   "cell_type": "code",
   "execution_count": null,
   "metadata": {
    "deletable": false,
    "editable": false,
    "nbgrader": {
     "cell_type": "code",
     "checksum": "3b29416283f757060f5121b8eac54c8b",
     "grade": true,
     "grade_id": "cell-75412805e4892973",
     "locked": true,
     "points": 0,
     "schema_version": 3,
     "solution": false,
     "task": false
    }
   },
   "outputs": [],
   "source": [
    "test_2.2()"
   ]
  },
  {
   "cell_type": "markdown",
   "metadata": {
    "deletable": false,
    "editable": false,
    "nbgrader": {
     "cell_type": "markdown",
     "checksum": "f2e3e7561ba40cbdb02f84d082a24a2d",
     "grade": false,
     "grade_id": "cell-712c5d5bf721ba07",
     "locked": true,
     "schema_version": 3,
     "solution": false,
     "task": false
    }
   },
   "source": [
    "**Question 2.3**\n",
    "<br> {points: 1}\n",
    "\n",
    "Now we need to extract the total WSSD results from the `kmeans_tuning_stats` data frame. Recall that we want to look at the `mean` variable for rows where the `.metric` variable is `sse_within_total`. Use the `filter`, `select`, and `mutate` functions to create a data frame containing only two variables: `num_clusters` and `total_WSSD`.\n",
    "\n",
    "*Assign your answer to an object named `tidy_tuning_stats`.*"
   ]
  },
  {
   "cell_type": "code",
   "execution_count": null,
   "metadata": {
    "deletable": false,
    "nbgrader": {
     "cell_type": "code",
     "checksum": "0579e9c2ddb998d8388ea395c9b8168a",
     "grade": false,
     "grade_id": "cell-e5550ab0d15e904b",
     "locked": false,
     "schema_version": 3,
     "solution": true
    }
   },
   "outputs": [],
   "source": [
    "# ... <- ... |>\n",
    "#        mutate(... = ...) |>\n",
    "#        filter(... == ...) |>\n",
    "#        select(..., ...)\n",
    "\n",
    "# your code here\n",
    "fail() # No Answer - remove if you provide an answer\n",
    "print(tidy_tuning_stats)"
   ]
  },
  {
   "cell_type": "code",
   "execution_count": null,
   "metadata": {
    "deletable": false,
    "editable": false,
    "nbgrader": {
     "cell_type": "code",
     "checksum": "f8b9b3f5714f6086844662d98269d015",
     "grade": true,
     "grade_id": "cell-a3574637a73eada8",
     "locked": true,
     "points": 1,
     "schema_version": 3,
     "solution": false
    }
   },
   "outputs": [],
   "source": [
    "test_2.3()"
   ]
  },
  {
   "cell_type": "markdown",
   "metadata": {
    "deletable": false,
    "editable": false,
    "nbgrader": {
     "cell_type": "markdown",
     "checksum": "f2ae7399d3c1e09680bfb9d47fdeca13",
     "grade": false,
     "grade_id": "cell-671e8f2244d62bbb",
     "locked": true,
     "schema_version": 3,
     "solution": false,
     "task": false
    }
   },
   "source": [
    "**Question 2.4**\n",
    "<br> {points: 1}\n",
    "\n",
    "We now have the the values for total within-cluster sum of squares for each model in a column (`total_WSSD`). Let's use it to create a line plot with points of total within-cluster sum of squares versus $K$, so that we can choose the best number of clusters to use. \n",
    "\n",
    "*Assign your plot to an object called `choose_beer_k`. Total within-cluster sum of squares should be on the y-axis and $K$ should be on the x-axis. Remember to follow the best visualization practices, including adding human-readable labels to your plot.*"
   ]
  },
  {
   "cell_type": "code",
   "execution_count": null,
   "metadata": {
    "deletable": false,
    "nbgrader": {
     "cell_type": "code",
     "checksum": "f247de529aecfec576ae9b9297e946b6",
     "grade": false,
     "grade_id": "cell-8a414509ff54b5ec",
     "locked": false,
     "schema_version": 3,
     "solution": true
    }
   },
   "outputs": [],
   "source": [
    "options(repr.plot.width = 8, repr.plot.height = 7)\n",
    "\n",
    "# your code here\n",
    "fail() # No Answer - remove if you provide an answer\n",
    "choose_beer_k"
   ]
  },
  {
   "cell_type": "code",
   "execution_count": null,
   "metadata": {
    "deletable": false,
    "editable": false,
    "nbgrader": {
     "cell_type": "code",
     "checksum": "6395415b6ef507f36666544e943ba509",
     "grade": true,
     "grade_id": "cell-3e758ca8ceea0217",
     "locked": true,
     "points": 1,
     "schema_version": 3,
     "solution": false
    }
   },
   "outputs": [],
   "source": [
    "test_2.4()"
   ]
  },
  {
   "cell_type": "markdown",
   "metadata": {
    "deletable": false,
    "editable": false,
    "nbgrader": {
     "cell_type": "markdown",
     "checksum": "e1037663d2109f983bde1e1c68d1aafa",
     "grade": false,
     "grade_id": "cell-790ae1331636b0f3",
     "locked": true,
     "schema_version": 3,
     "solution": false,
     "task": false
    }
   },
   "source": [
    "**Question 2.5**\n",
    "<br> {points: 1}\n",
    "\n",
    "From the plot above, which $K$ should we choose? \n",
    "\n",
    "*Assign your answer to an object called `answer2.5`. Make sure your answer is a single numerical character surrounded by quotation marks.*"
   ]
  },
  {
   "cell_type": "code",
   "execution_count": null,
   "metadata": {
    "deletable": false,
    "nbgrader": {
     "cell_type": "code",
     "checksum": "4489acbc06e2879ca35fca09d6766cba",
     "grade": false,
     "grade_id": "cell-bd38240a36b3d416",
     "locked": false,
     "schema_version": 3,
     "solution": true
    }
   },
   "outputs": [],
   "source": [
    "# your code here\n",
    "fail() # No Answer - remove if you provide an answer"
   ]
  },
  {
   "cell_type": "code",
   "execution_count": null,
   "metadata": {
    "deletable": false,
    "editable": false,
    "nbgrader": {
     "cell_type": "code",
     "checksum": "72e83add3b1bb9ff0de50a75470bade9",
     "grade": true,
     "grade_id": "cell-62328bcd821daea9",
     "locked": true,
     "points": 1,
     "schema_version": 3,
     "solution": false
    }
   },
   "outputs": [],
   "source": [
    "test_2.5()"
   ]
  },
  {
   "cell_type": "markdown",
   "metadata": {
    "deletable": false,
    "editable": false,
    "nbgrader": {
     "cell_type": "markdown",
     "checksum": "9a93543ccfecd32ce99fb46dd97bd08e",
     "grade": false,
     "grade_id": "cell-ef050c1e9d2e38a3",
     "locked": true,
     "schema_version": 3,
     "solution": false,
     "task": false
    }
   },
   "source": [
    "**Question 2.6**\n",
    "<br> {points: 1}\n",
    "\n",
    "Why did we choose the $K$ we chose above?\n",
    "\n",
    "A. It had the greatest total within-cluster sum of squares\n",
    "\n",
    "B. It had the smallest total within-cluster sum of squares\n",
    "\n",
    "C. Increasing $K$ further than this only decreased the total within-cluster sum of squares a small amount\n",
    "\n",
    "D. Increasing $K$ further than this only increased the total within-cluster sum of squares a small amount\n",
    "\n",
    "*Assign your answer to an object called `answer2.6`. Make sure your answer is an uppercase letter and is surrounded by quotation marks (e.g. `\"F\"`).*"
   ]
  },
  {
   "cell_type": "code",
   "execution_count": null,
   "metadata": {
    "deletable": false,
    "nbgrader": {
     "cell_type": "code",
     "checksum": "0dbcb127e101fdcdafb3363e505b0d8a",
     "grade": false,
     "grade_id": "cell-7119273f4bf5c70f",
     "locked": false,
     "schema_version": 3,
     "solution": true,
     "task": false
    }
   },
   "outputs": [],
   "source": [
    "# your code here\n",
    "fail() # No Answer - remove if you provide an answer"
   ]
  },
  {
   "cell_type": "code",
   "execution_count": null,
   "metadata": {
    "deletable": false,
    "editable": false,
    "nbgrader": {
     "cell_type": "code",
     "checksum": "9eb5622c9c07de7a6cdb1ac7d230d2b8",
     "grade": true,
     "grade_id": "cell-65273d2d7700f564",
     "locked": true,
     "points": 1,
     "schema_version": 3,
     "solution": false,
     "task": false
    }
   },
   "outputs": [],
   "source": [
    "test_2.6()"
   ]
  },
  {
   "cell_type": "markdown",
   "metadata": {
    "deletable": false,
    "editable": false,
    "nbgrader": {
     "cell_type": "markdown",
     "checksum": "592e27cfb5a735e42d43c4841feeec6d",
     "grade": false,
     "grade_id": "cell-e28e4f23066bcf9a",
     "locked": true,
     "schema_version": 3,
     "solution": false,
     "task": false
    }
   },
   "source": [
    "**Question 2.7** Multiple Choice:\n",
    "<br> {points: 1}\n",
    "\n",
    "What can we conclude from our analysis? How many different types of hoppy craft beer are there in this data set using the two variables we have? \n",
    "\n",
    "\n",
    "A. 1\n",
    "\n",
    "B. 2 to 4\n",
    "\n",
    "C. 5 to 7\n",
    "\n",
    "D. more than 7\n",
    "\n",
    "*Assign your answer to an object called `answer2.7`. Make sure your answer is an uppercase letter and is surrounded by quotation marks (e.g. `\"F\"`).*"
   ]
  },
  {
   "cell_type": "code",
   "execution_count": null,
   "metadata": {
    "deletable": false,
    "nbgrader": {
     "cell_type": "code",
     "checksum": "9192f530ce56807df607de58b3b57542",
     "grade": false,
     "grade_id": "cell-5933faf0f7947187",
     "locked": false,
     "schema_version": 3,
     "solution": true,
     "task": false
    }
   },
   "outputs": [],
   "source": [
    "# your code here\n",
    "fail() # No Answer - remove if you provide an answer"
   ]
  },
  {
   "cell_type": "code",
   "execution_count": null,
   "metadata": {
    "deletable": false,
    "editable": false,
    "nbgrader": {
     "cell_type": "code",
     "checksum": "dcfc86c8640acf50e0a3410d5a1eba99",
     "grade": true,
     "grade_id": "cell-76e5f8ab2c8eb674",
     "locked": true,
     "points": 1,
     "schema_version": 3,
     "solution": false,
     "task": false
    }
   },
   "outputs": [],
   "source": [
    "test_2.7()"
   ]
  },
  {
   "cell_type": "markdown",
   "metadata": {
    "deletable": false,
    "editable": false,
    "nbgrader": {
     "cell_type": "markdown",
     "checksum": "c183023d2c9cc59a7b70f6c0f3177947",
     "grade": false,
     "grade_id": "cell-91d519c3b41719e6",
     "locked": true,
     "schema_version": 3,
     "solution": false,
     "task": false
    }
   },
   "source": [
    "**Question 2.8** True or false:\n",
    "<br> {points: 1}\n",
    "\n",
    "Our analysis might change if we added additional variables, true or false?\n",
    "\n",
    "*Assign your answer to an object called `answer2.8`. Make sure your answer is written in lowercase and is surrounded by quotation marks (e.g. `\"true\"` or `\"false\"`).* "
   ]
  },
  {
   "cell_type": "code",
   "execution_count": null,
   "metadata": {
    "deletable": false,
    "nbgrader": {
     "cell_type": "code",
     "checksum": "dec03e7c7c3824361ccf841e60e2a027",
     "grade": false,
     "grade_id": "cell-862c99c6ebefdc17",
     "locked": false,
     "schema_version": 3,
     "solution": true,
     "task": false
    }
   },
   "outputs": [],
   "source": [
    "# your code here\n",
    "fail() # No Answer - remove if you provide an answer"
   ]
  },
  {
   "cell_type": "code",
   "execution_count": null,
   "metadata": {
    "deletable": false,
    "editable": false,
    "nbgrader": {
     "cell_type": "code",
     "checksum": "c2113ae4f54b53be96a515f18c60627c",
     "grade": true,
     "grade_id": "cell-4ce39cad803fddf2",
     "locked": true,
     "points": 1,
     "schema_version": 3,
     "solution": false,
     "task": false
    }
   },
   "outputs": [],
   "source": [
    "test_2.8()"
   ]
  },
  {
   "cell_type": "code",
   "execution_count": null,
   "metadata": {
    "deletable": false,
    "editable": false,
    "nbgrader": {
     "cell_type": "code",
     "checksum": "344adad38a9211d2c97804aa4d8c6e3e",
     "grade": false,
     "grade_id": "cell-40c8760369f78526",
     "locked": true,
     "schema_version": 3,
     "solution": false,
     "task": false
    },
    "tags": []
   },
   "outputs": [],
   "source": [
    "source(\"cleanup.R\")"
   ]
  }
 ],
 "metadata": {
  "kernelspec": {
   "display_name": "R",
   "language": "R",
   "name": "ir"
  },
  "language_info": {
   "codemirror_mode": "r",
   "file_extension": ".r",
   "mimetype": "text/x-r-source",
   "name": "R",
   "pygments_lexer": "r",
   "version": "4.3.1"
  }
 },
 "nbformat": 4,
 "nbformat_minor": 4
}
